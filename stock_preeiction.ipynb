{
 "cells": [
  {
   "cell_type": "markdown",
   "metadata": {},
   "source": [
    "## Importing Libraries"
   ]
  },
  {
   "cell_type": "code",
   "execution_count": 1,
   "metadata": {},
   "outputs": [],
   "source": [
    "import numpy as np \n",
    "import pandas as pd \n",
    "import matplotlib.pyplot as plt \n",
    "import tensorflow as tf"
   ]
  },
  {
   "cell_type": "markdown",
   "metadata": {},
   "source": [
    "## Import dataset"
   ]
  },
  {
   "cell_type": "code",
   "execution_count": 2,
   "metadata": {},
   "outputs": [],
   "source": [
    "dataset = pd.read_csv('train_TCS.csv')\n"
   ]
  },
  {
   "cell_type": "code",
   "execution_count": 3,
   "metadata": {},
   "outputs": [
    {
     "data": {
      "text/html": [
       "<div>\n",
       "<style scoped>\n",
       "    .dataframe tbody tr th:only-of-type {\n",
       "        vertical-align: middle;\n",
       "    }\n",
       "\n",
       "    .dataframe tbody tr th {\n",
       "        vertical-align: top;\n",
       "    }\n",
       "\n",
       "    .dataframe thead th {\n",
       "        text-align: right;\n",
       "    }\n",
       "</style>\n",
       "<table border=\"1\" class=\"dataframe\">\n",
       "  <thead>\n",
       "    <tr style=\"text-align: right;\">\n",
       "      <th></th>\n",
       "      <th>Date</th>\n",
       "      <th>Open</th>\n",
       "      <th>High</th>\n",
       "      <th>Low</th>\n",
       "      <th>Close</th>\n",
       "      <th>Adj Close</th>\n",
       "      <th>Volume</th>\n",
       "    </tr>\n",
       "  </thead>\n",
       "  <tbody>\n",
       "    <tr>\n",
       "      <th>0</th>\n",
       "      <td>2010-01-08</td>\n",
       "      <td>358.000000</td>\n",
       "      <td>359.250000</td>\n",
       "      <td>348.250000</td>\n",
       "      <td>349.899994</td>\n",
       "      <td>281.587463</td>\n",
       "      <td>6048178.0</td>\n",
       "    </tr>\n",
       "    <tr>\n",
       "      <th>1</th>\n",
       "      <td>2010-01-11</td>\n",
       "      <td>352.000000</td>\n",
       "      <td>360.049988</td>\n",
       "      <td>350.200012</td>\n",
       "      <td>357.100006</td>\n",
       "      <td>287.381775</td>\n",
       "      <td>4318408.0</td>\n",
       "    </tr>\n",
       "    <tr>\n",
       "      <th>2</th>\n",
       "      <td>2010-01-12</td>\n",
       "      <td>366.000000</td>\n",
       "      <td>377.000000</td>\n",
       "      <td>363.500000</td>\n",
       "      <td>375.024994</td>\n",
       "      <td>301.807220</td>\n",
       "      <td>9027690.0</td>\n",
       "    </tr>\n",
       "    <tr>\n",
       "      <th>3</th>\n",
       "      <td>2010-01-13</td>\n",
       "      <td>372.500000</td>\n",
       "      <td>398.200012</td>\n",
       "      <td>372.325012</td>\n",
       "      <td>394.274994</td>\n",
       "      <td>317.298950</td>\n",
       "      <td>10910272.0</td>\n",
       "    </tr>\n",
       "    <tr>\n",
       "      <th>4</th>\n",
       "      <td>2010-01-14</td>\n",
       "      <td>399.225006</td>\n",
       "      <td>399.225006</td>\n",
       "      <td>384.674988</td>\n",
       "      <td>389.924988</td>\n",
       "      <td>313.798279</td>\n",
       "      <td>10327614.0</td>\n",
       "    </tr>\n",
       "    <tr>\n",
       "      <th>...</th>\n",
       "      <td>...</td>\n",
       "      <td>...</td>\n",
       "      <td>...</td>\n",
       "      <td>...</td>\n",
       "      <td>...</td>\n",
       "      <td>...</td>\n",
       "      <td>...</td>\n",
       "    </tr>\n",
       "    <tr>\n",
       "      <th>2716</th>\n",
       "      <td>2021-01-01</td>\n",
       "      <td>2880.000000</td>\n",
       "      <td>2940.000000</td>\n",
       "      <td>2879.000000</td>\n",
       "      <td>2928.250000</td>\n",
       "      <td>2922.688232</td>\n",
       "      <td>2681440.0</td>\n",
       "    </tr>\n",
       "    <tr>\n",
       "      <th>2717</th>\n",
       "      <td>2021-01-04</td>\n",
       "      <td>2950.000000</td>\n",
       "      <td>3050.750000</td>\n",
       "      <td>2940.949951</td>\n",
       "      <td>3039.449951</td>\n",
       "      <td>3033.677002</td>\n",
       "      <td>5113293.0</td>\n",
       "    </tr>\n",
       "    <tr>\n",
       "      <th>2718</th>\n",
       "      <td>2021-01-05</td>\n",
       "      <td>3039.600098</td>\n",
       "      <td>3114.250000</td>\n",
       "      <td>3039.600098</td>\n",
       "      <td>3093.000000</td>\n",
       "      <td>3087.125244</td>\n",
       "      <td>5801309.0</td>\n",
       "    </tr>\n",
       "    <tr>\n",
       "      <th>2719</th>\n",
       "      <td>2021-01-06</td>\n",
       "      <td>3100.000000</td>\n",
       "      <td>3113.500000</td>\n",
       "      <td>3037.199951</td>\n",
       "      <td>3051.500000</td>\n",
       "      <td>3045.704102</td>\n",
       "      <td>3726716.0</td>\n",
       "    </tr>\n",
       "    <tr>\n",
       "      <th>2720</th>\n",
       "      <td>2021-01-07</td>\n",
       "      <td>3075.000000</td>\n",
       "      <td>3080.850098</td>\n",
       "      <td>3000.250000</td>\n",
       "      <td>3032.800049</td>\n",
       "      <td>3027.039551</td>\n",
       "      <td>3717827.0</td>\n",
       "    </tr>\n",
       "  </tbody>\n",
       "</table>\n",
       "<p>2721 rows × 7 columns</p>\n",
       "</div>"
      ],
      "text/plain": [
       "            Date         Open         High          Low        Close  \\\n",
       "0     2010-01-08   358.000000   359.250000   348.250000   349.899994   \n",
       "1     2010-01-11   352.000000   360.049988   350.200012   357.100006   \n",
       "2     2010-01-12   366.000000   377.000000   363.500000   375.024994   \n",
       "3     2010-01-13   372.500000   398.200012   372.325012   394.274994   \n",
       "4     2010-01-14   399.225006   399.225006   384.674988   389.924988   \n",
       "...          ...          ...          ...          ...          ...   \n",
       "2716  2021-01-01  2880.000000  2940.000000  2879.000000  2928.250000   \n",
       "2717  2021-01-04  2950.000000  3050.750000  2940.949951  3039.449951   \n",
       "2718  2021-01-05  3039.600098  3114.250000  3039.600098  3093.000000   \n",
       "2719  2021-01-06  3100.000000  3113.500000  3037.199951  3051.500000   \n",
       "2720  2021-01-07  3075.000000  3080.850098  3000.250000  3032.800049   \n",
       "\n",
       "        Adj Close      Volume  \n",
       "0      281.587463   6048178.0  \n",
       "1      287.381775   4318408.0  \n",
       "2      301.807220   9027690.0  \n",
       "3      317.298950  10910272.0  \n",
       "4      313.798279  10327614.0  \n",
       "...           ...         ...  \n",
       "2716  2922.688232   2681440.0  \n",
       "2717  3033.677002   5113293.0  \n",
       "2718  3087.125244   5801309.0  \n",
       "2719  3045.704102   3726716.0  \n",
       "2720  3027.039551   3717827.0  \n",
       "\n",
       "[2721 rows x 7 columns]"
      ]
     },
     "execution_count": 3,
     "metadata": {},
     "output_type": "execute_result"
    }
   ],
   "source": [
    "dataset"
   ]
  },
  {
   "cell_type": "code",
   "execution_count": 4,
   "metadata": {},
   "outputs": [
    {
     "data": {
      "text/plain": [
       "Date         0\n",
       "Open         9\n",
       "High         9\n",
       "Low          9\n",
       "Close        9\n",
       "Adj Close    9\n",
       "Volume       9\n",
       "dtype: int64"
      ]
     },
     "execution_count": 4,
     "metadata": {},
     "output_type": "execute_result"
    }
   ],
   "source": [
    "dataset.isnull().sum() # to check whether the data contain null values or not "
   ]
  },
  {
   "cell_type": "code",
   "execution_count": 5,
   "metadata": {},
   "outputs": [],
   "source": [
    "dataset.dropna(inplace = True ) # dropping NAN value rows"
   ]
  },
  {
   "cell_type": "code",
   "execution_count": 6,
   "metadata": {},
   "outputs": [
    {
     "data": {
      "text/plain": [
       "Date         0\n",
       "Open         0\n",
       "High         0\n",
       "Low          0\n",
       "Close        0\n",
       "Adj Close    0\n",
       "Volume       0\n",
       "dtype: int64"
      ]
     },
     "execution_count": 6,
     "metadata": {},
     "output_type": "execute_result"
    }
   ],
   "source": [
    "dataset.isnull().sum()"
   ]
  },
  {
   "cell_type": "code",
   "execution_count": 7,
   "metadata": {},
   "outputs": [],
   "source": [
    "np.set_printoptions(precision= 2) # fixing the decimal place upto 2 decimal place\n",
    "training_set = dataset.iloc[:,1:2].values "
   ]
  },
  {
   "cell_type": "code",
   "execution_count": 8,
   "metadata": {},
   "outputs": [
    {
     "data": {
      "text/plain": [
       "array([[ 358. ],\n",
       "       [ 352. ],\n",
       "       [ 366. ],\n",
       "       ...,\n",
       "       [3039.6],\n",
       "       [3100. ],\n",
       "       [3075. ]])"
      ]
     },
     "execution_count": 8,
     "metadata": {},
     "output_type": "execute_result"
    }
   ],
   "source": [
    "training_set"
   ]
  },
  {
   "cell_type": "markdown",
   "metadata": {},
   "source": [
    "## Feature_Scaling "
   ]
  },
  {
   "cell_type": "code",
   "execution_count": 9,
   "metadata": {},
   "outputs": [],
   "source": [
    "from sklearn.preprocessing import MinMaxScaler # fecature scaling  ,MinMaxScaler outcomes in between 0 and 1\n",
    "sc =MinMaxScaler()"
   ]
  },
  {
   "cell_type": "code",
   "execution_count": 10,
   "metadata": {},
   "outputs": [],
   "source": [
    "training_set_scaled = sc.fit_transform(training_set) # appling fit_transform method for getting out value scaled"
   ]
  },
  {
   "cell_type": "code",
   "execution_count": 11,
   "metadata": {},
   "outputs": [
    {
     "data": {
      "text/plain": [
       "array([[0.  ],\n",
       "       [0.  ],\n",
       "       [0.01],\n",
       "       ...,\n",
       "       [0.98],\n",
       "       [1.  ],\n",
       "       [0.99]])"
      ]
     },
     "execution_count": 11,
     "metadata": {},
     "output_type": "execute_result"
    }
   ],
   "source": [
    "training_set_scaled"
   ]
  },
  {
   "cell_type": "code",
   "execution_count": 12,
   "metadata": {},
   "outputs": [],
   "source": [
    "# here we tak the perioed of 60 dayes  ,means prediction of today on the basis of stock prices of last 60 days\n",
    "X_train = []\n",
    "Y_train = []\n",
    "for i in range(60,2712):\n",
    "    X_train.append(training_set_scaled[i-60:i,0])\n",
    "    Y_train.append(training_set_scaled[i,0])\n",
    "    \n",
    "    \n",
    "X_train = np.array(X_train)\n",
    "Y_train = np.array(Y_train)"
   ]
  },
  {
   "cell_type": "code",
   "execution_count": 13,
   "metadata": {},
   "outputs": [
    {
     "data": {
      "text/plain": [
       "array([[0.  , 0.  , 0.01, ..., 0.02, 0.02, 0.02],\n",
       "       [0.  , 0.01, 0.01, ..., 0.02, 0.02, 0.02],\n",
       "       [0.01, 0.01, 0.02, ..., 0.02, 0.02, 0.02],\n",
       "       ...,\n",
       "       [0.89, 0.89, 0.9 , ..., 0.93, 0.92, 0.95],\n",
       "       [0.89, 0.9 , 0.91, ..., 0.92, 0.95, 0.98],\n",
       "       [0.9 , 0.91, 0.91, ..., 0.95, 0.98, 1.  ]])"
      ]
     },
     "execution_count": 13,
     "metadata": {},
     "output_type": "execute_result"
    }
   ],
   "source": [
    "X_train"
   ]
  },
  {
   "cell_type": "code",
   "execution_count": 14,
   "metadata": {},
   "outputs": [
    {
     "data": {
      "text/plain": [
       "array([0.02, 0.02, 0.02, ..., 0.98, 1.  , 0.99])"
      ]
     },
     "execution_count": 14,
     "metadata": {},
     "output_type": "execute_result"
    }
   ],
   "source": [
    "Y_train"
   ]
  },
  {
   "cell_type": "code",
   "execution_count": 15,
   "metadata": {},
   "outputs": [],
   "source": [
    "##  Reshaping "
   ]
  },
  {
   "cell_type": "code",
   "execution_count": 112,
   "metadata": {},
   "outputs": [],
   "source": [
    "X_train = np.reshape(X_train, (X_train.shape[0], X_train.shape[1] , 1))"
   ]
  },
  {
   "cell_type": "code",
   "execution_count": 17,
   "metadata": {},
   "outputs": [
    {
     "data": {
      "text/plain": [
       "(2652, 60, 1)"
      ]
     },
     "execution_count": 17,
     "metadata": {},
     "output_type": "execute_result"
    }
   ],
   "source": [
    "X_train.shape"
   ]
  },
  {
   "cell_type": "code",
   "execution_count": 18,
   "metadata": {},
   "outputs": [
    {
     "data": {
      "text/plain": [
       "(60, 1)"
      ]
     },
     "execution_count": 18,
     "metadata": {},
     "output_type": "execute_result"
    }
   ],
   "source": [
    "X_train.shape[1] , 1"
   ]
  },
  {
   "cell_type": "markdown",
   "metadata": {},
   "source": [
    "## Building RNN\n"
   ]
  },
  {
   "cell_type": "code",
   "execution_count": 20,
   "metadata": {},
   "outputs": [],
   "source": [
    "from keras.models import Sequential\n",
    "from keras.layers import Dense ,LSTM ,Dropout"
   ]
  },
  {
   "cell_type": "markdown",
   "metadata": {},
   "source": [
    "## Initializing the RNN \n"
   ]
  },
  {
   "cell_type": "code",
   "execution_count": 22,
   "metadata": {},
   "outputs": [],
   "source": [
    "regressor = Sequential() # we creted the object of class Sequential() as regressor , because we have to predict continious values"
   ]
  },
  {
   "cell_type": "code",
   "execution_count": 23,
   "metadata": {},
   "outputs": [],
   "source": [
    "# First layes\n",
    "regressor.add(LSTM(units = 50,return_sequences = True  , input_shape = (X_train.shape[1], 1) ))\n",
    "regressor.add(Dropout(0.2))"
   ]
  },
  {
   "cell_type": "code",
   "execution_count": 24,
   "metadata": {},
   "outputs": [],
   "source": [
    "\n",
    "# Second layer\n",
    "regressor.add(LSTM(units = 50,return_sequences = True  ))\n",
    "regressor.add(Dropout(0.2))"
   ]
  },
  {
   "cell_type": "code",
   "execution_count": 25,
   "metadata": {},
   "outputs": [],
   "source": [
    "# Third layer\n",
    "regressor.add(LSTM(units = 50,return_sequences = True  ))\n",
    "regressor.add(Dropout(0.2))"
   ]
  },
  {
   "cell_type": "code",
   "execution_count": 26,
   "metadata": {},
   "outputs": [],
   "source": [
    "regressor.add(LSTM(units = 50 ))\n",
    "regressor.add(Dropout(0.2))"
   ]
  },
  {
   "cell_type": "code",
   "execution_count": 27,
   "metadata": {},
   "outputs": [],
   "source": [
    "## Adding output layer \n",
    "regressor.add(Dense(units =1 ))\n"
   ]
  },
  {
   "cell_type": "code",
   "execution_count": 28,
   "metadata": {},
   "outputs": [],
   "source": [
    "regressor.compile(optimizer = 'adam' , loss = 'MSE')"
   ]
  },
  {
   "cell_type": "code",
   "execution_count": 32,
   "metadata": {},
   "outputs": [
    {
     "name": "stdout",
     "output_type": "stream",
     "text": [
      "Epoch 1/100\n",
      "83/83 [==============================] - 8s 97ms/step - loss: 5.0327e-04\n",
      "Epoch 2/100\n",
      "83/83 [==============================] - 8s 98ms/step - loss: 5.3385e-04\n",
      "Epoch 3/100\n",
      "83/83 [==============================] - 8s 97ms/step - loss: 4.7952e-04\n",
      "Epoch 4/100\n",
      "83/83 [==============================] - 8s 98ms/step - loss: 5.3637e-04\n",
      "Epoch 5/100\n",
      "83/83 [==============================] - 8s 98ms/step - loss: 5.5136e-04\n",
      "Epoch 6/100\n",
      "83/83 [==============================] - 8s 98ms/step - loss: 4.9089e-04\n",
      "Epoch 7/100\n",
      "83/83 [==============================] - 8s 98ms/step - loss: 5.3555e-04\n",
      "Epoch 8/100\n",
      "83/83 [==============================] - 8s 98ms/step - loss: 7.3499e-04\n",
      "Epoch 9/100\n",
      "83/83 [==============================] - 8s 98ms/step - loss: 7.5269e-04\n",
      "Epoch 10/100\n",
      "83/83 [==============================] - 8s 97ms/step - loss: 5.6173e-04\n",
      "Epoch 11/100\n",
      "83/83 [==============================] - 8s 98ms/step - loss: 5.5251e-04\n",
      "Epoch 12/100\n",
      "83/83 [==============================] - 8s 98ms/step - loss: 5.6042e-04\n",
      "Epoch 13/100\n",
      "83/83 [==============================] - 8s 98ms/step - loss: 4.9425e-04\n",
      "Epoch 14/100\n",
      "83/83 [==============================] - 8s 98ms/step - loss: 5.5862e-04\n",
      "Epoch 15/100\n",
      "83/83 [==============================] - 8s 98ms/step - loss: 5.5870e-04\n",
      "Epoch 16/100\n",
      "83/83 [==============================] - 8s 98ms/step - loss: 5.2477e-04\n",
      "Epoch 17/100\n",
      "83/83 [==============================] - 8s 98ms/step - loss: 4.9604e-04\n",
      "Epoch 18/100\n",
      "83/83 [==============================] - 8s 98ms/step - loss: 4.8705e-04\n",
      "Epoch 19/100\n",
      "83/83 [==============================] - 8s 98ms/step - loss: 4.9029e-04\n",
      "Epoch 20/100\n",
      "83/83 [==============================] - 8s 98ms/step - loss: 5.3277e-04\n",
      "Epoch 21/100\n",
      "83/83 [==============================] - 8s 98ms/step - loss: 6.2510e-04\n",
      "Epoch 22/100\n",
      "83/83 [==============================] - 8s 98ms/step - loss: 5.2614e-04\n",
      "Epoch 23/100\n",
      "83/83 [==============================] - 8s 98ms/step - loss: 5.6985e-04\n",
      "Epoch 24/100\n",
      "83/83 [==============================] - 8s 98ms/step - loss: 5.8190e-04\n",
      "Epoch 25/100\n",
      "83/83 [==============================] - 8s 98ms/step - loss: 4.8771e-04\n",
      "Epoch 26/100\n",
      "83/83 [==============================] - 8s 98ms/step - loss: 5.4016e-04\n",
      "Epoch 27/100\n",
      "83/83 [==============================] - 8s 98ms/step - loss: 5.1320e-04\n",
      "Epoch 28/100\n",
      "83/83 [==============================] - 8s 99ms/step - loss: 5.5215e-04\n",
      "Epoch 29/100\n",
      "83/83 [==============================] - 8s 98ms/step - loss: 5.4810e-04\n",
      "Epoch 30/100\n",
      "83/83 [==============================] - 8s 98ms/step - loss: 5.8469e-04\n",
      "Epoch 31/100\n",
      "83/83 [==============================] - 8s 98ms/step - loss: 5.0351e-04\n",
      "Epoch 32/100\n",
      "83/83 [==============================] - 8s 98ms/step - loss: 4.9353e-04\n",
      "Epoch 33/100\n",
      "83/83 [==============================] - 8s 98ms/step - loss: 5.2850e-04\n",
      "Epoch 34/100\n",
      "83/83 [==============================] - 8s 98ms/step - loss: 4.6443e-04\n",
      "Epoch 35/100\n",
      "83/83 [==============================] - 8s 98ms/step - loss: 5.0508e-04\n",
      "Epoch 36/100\n",
      "83/83 [==============================] - 8s 99ms/step - loss: 4.9214e-04\n",
      "Epoch 37/100\n",
      "83/83 [==============================] - 8s 98ms/step - loss: 5.3226e-04\n",
      "Epoch 38/100\n",
      "83/83 [==============================] - 8s 98ms/step - loss: 4.8902e-04\n",
      "Epoch 39/100\n",
      "83/83 [==============================] - 8s 98ms/step - loss: 4.8790e-04\n",
      "Epoch 40/100\n",
      "83/83 [==============================] - 8s 98ms/step - loss: 5.1526e-04\n",
      "Epoch 41/100\n",
      "83/83 [==============================] - 8s 98ms/step - loss: 4.9785e-04\n",
      "Epoch 42/100\n",
      "83/83 [==============================] - 8s 98ms/step - loss: 5.3141e-04\n",
      "Epoch 43/100\n",
      "83/83 [==============================] - 8s 98ms/step - loss: 4.8539e-04\n",
      "Epoch 44/100\n",
      "83/83 [==============================] - 8s 98ms/step - loss: 5.0257e-04\n",
      "Epoch 45/100\n",
      "83/83 [==============================] - 8s 98ms/step - loss: 4.9128e-04\n",
      "Epoch 46/100\n",
      "83/83 [==============================] - 8s 98ms/step - loss: 5.5512e-04\n",
      "Epoch 47/100\n",
      "83/83 [==============================] - 8s 101ms/step - loss: 4.7666e-04\n",
      "Epoch 48/100\n",
      "83/83 [==============================] - 8s 99ms/step - loss: 5.2116e-04\n",
      "Epoch 49/100\n",
      "83/83 [==============================] - 8s 99ms/step - loss: 4.9509e-04\n",
      "Epoch 50/100\n",
      "83/83 [==============================] - 8s 99ms/step - loss: 4.4885e-04: 1s - lo\n",
      "Epoch 51/100\n",
      "83/83 [==============================] - 8s 98ms/step - loss: 4.8304e-04\n",
      "Epoch 52/100\n",
      "83/83 [==============================] - 8s 99ms/step - loss: 4.7329e-04\n",
      "Epoch 53/100\n",
      "83/83 [==============================] - 8s 99ms/step - loss: 5.2066e-04\n",
      "Epoch 54/100\n",
      "83/83 [==============================] - 8s 99ms/step - loss: 4.7841e-04\n",
      "Epoch 55/100\n",
      "83/83 [==============================] - 8s 99ms/step - loss: 5.0498e-04\n",
      "Epoch 56/100\n",
      "83/83 [==============================] - 9s 107ms/step - loss: 4.9045e-04\n",
      "Epoch 57/100\n",
      "83/83 [==============================] - 8s 99ms/step - loss: 5.0400e-04\n",
      "Epoch 58/100\n",
      "83/83 [==============================] - 8s 99ms/step - loss: 4.8944e-04\n",
      "Epoch 59/100\n",
      "83/83 [==============================] - 8s 99ms/step - loss: 5.2337e-04\n",
      "Epoch 60/100\n",
      "83/83 [==============================] - 8s 99ms/step - loss: 4.5611e-04\n",
      "Epoch 61/100\n",
      "83/83 [==============================] - 8s 100ms/step - loss: 5.1734e-04\n",
      "Epoch 62/100\n",
      "83/83 [==============================] - 8s 100ms/step - loss: 4.7370e-04\n",
      "Epoch 63/100\n",
      "83/83 [==============================] - 8s 100ms/step - loss: 5.1917e-04\n",
      "Epoch 64/100\n",
      "83/83 [==============================] - 8s 99ms/step - loss: 5.6531e-04\n",
      "Epoch 65/100\n",
      "83/83 [==============================] - 8s 100ms/step - loss: 5.2077e-04\n",
      "Epoch 66/100\n",
      "83/83 [==============================] - 8s 100ms/step - loss: 5.0072e-04 1s \n",
      "Epoch 67/100\n",
      "83/83 [==============================] - 8s 101ms/step - loss: 5.2715e-04\n",
      "Epoch 68/100\n",
      "83/83 [==============================] - 8s 100ms/step - loss: 4.6471e-04\n",
      "Epoch 69/100\n",
      "83/83 [==============================] - 8s 100ms/step - loss: 4.4912e-04\n",
      "Epoch 70/100\n",
      "83/83 [==============================] - 8s 100ms/step - loss: 4.6397e-04\n",
      "Epoch 71/100\n",
      "83/83 [==============================] - 8s 102ms/step - loss: 4.8619e-04\n",
      "Epoch 72/100\n",
      "83/83 [==============================] - 8s 99ms/step - loss: 4.7468e-04\n",
      "Epoch 73/100\n",
      "83/83 [==============================] - 8s 101ms/step - loss: 4.6046e-04\n",
      "Epoch 74/100\n",
      "83/83 [==============================] - 8s 100ms/step - loss: 5.4911e-04\n",
      "Epoch 75/100\n",
      "83/83 [==============================] - 9s 103ms/step - loss: 4.8816e-04\n",
      "Epoch 76/100\n",
      "83/83 [==============================] - 8s 101ms/step - loss: 4.8467e-04\n",
      "Epoch 77/100\n",
      "83/83 [==============================] - 9s 102ms/step - loss: 4.8414e-04\n",
      "Epoch 78/100\n",
      "83/83 [==============================] - 8s 101ms/step - loss: 4.4502e-04\n",
      "Epoch 79/100\n",
      "83/83 [==============================] - 8s 101ms/step - loss: 6.5152e-04\n",
      "Epoch 80/100\n",
      "83/83 [==============================] - 8s 100ms/step - loss: 4.5506e-04\n",
      "Epoch 81/100\n",
      "83/83 [==============================] - 8s 100ms/step - loss: 4.6135e-04\n",
      "Epoch 82/100\n",
      "83/83 [==============================] - 8s 100ms/step - loss: 4.8169e-04\n",
      "Epoch 83/100\n",
      "83/83 [==============================] - 8s 100ms/step - loss: 4.8580e-04\n",
      "Epoch 84/100\n",
      "83/83 [==============================] - 8s 101ms/step - loss: 4.6336e-04\n",
      "Epoch 85/100\n",
      "83/83 [==============================] - 9s 106ms/step - loss: 4.8381e-04\n",
      "Epoch 86/100\n",
      "83/83 [==============================] - 8s 100ms/step - loss: 4.9458e-04\n",
      "Epoch 87/100\n",
      "83/83 [==============================] - 9s 108ms/step - loss: 4.7607e-04\n",
      "Epoch 88/100\n",
      "83/83 [==============================] - 8s 100ms/step - loss: 5.4332e-04\n",
      "Epoch 89/100\n",
      "83/83 [==============================] - 8s 100ms/step - loss: 5.4433e-04\n",
      "Epoch 90/100\n",
      "83/83 [==============================] - 8s 99ms/step - loss: 4.4514e-04\n",
      "Epoch 91/100\n",
      "83/83 [==============================] - 9s 103ms/step - loss: 5.0222e-04\n",
      "Epoch 92/100\n",
      "83/83 [==============================] - 9s 108ms/step - loss: 4.6172e-04\n",
      "Epoch 93/100\n",
      "83/83 [==============================] - 8s 101ms/step - loss: 4.6477e-04\n",
      "Epoch 94/100\n",
      "83/83 [==============================] - 9s 103ms/step - loss: 4.7085e-04\n",
      "Epoch 95/100\n"
     ]
    },
    {
     "name": "stdout",
     "output_type": "stream",
     "text": [
      "83/83 [==============================] - 8s 100ms/step - loss: 4.9817e-04\n",
      "Epoch 96/100\n",
      "83/83 [==============================] - 8s 101ms/step - loss: 4.4881e-04\n",
      "Epoch 97/100\n",
      "83/83 [==============================] - 8s 101ms/step - loss: 4.9034e-04\n",
      "Epoch 98/100\n",
      "83/83 [==============================] - 9s 103ms/step - loss: 4.7338e-04\n",
      "Epoch 99/100\n",
      "83/83 [==============================] - 9s 103ms/step - loss: 4.3789e-04\n",
      "Epoch 100/100\n",
      "83/83 [==============================] - 9s 104ms/step - loss: 4.4987e-04\n"
     ]
    },
    {
     "data": {
      "text/plain": [
       "<tensorflow.python.keras.callbacks.History at 0x134d6ad6100>"
      ]
     },
     "execution_count": 32,
     "metadata": {},
     "output_type": "execute_result"
    }
   ],
   "source": [
    "regressor.fit(X_train , Y_train ,batch_size =32, epochs = 100 )"
   ]
  },
  {
   "cell_type": "code",
   "execution_count": null,
   "metadata": {},
   "outputs": [],
   "source": []
  },
  {
   "cell_type": "markdown",
   "metadata": {},
   "source": [
    "## Predicting Test_set result"
   ]
  },
  {
   "cell_type": "code",
   "execution_count": 35,
   "metadata": {},
   "outputs": [],
   "source": [
    "\n",
    "dataset_test = pd.read_csv('Test_TCS.csv')"
   ]
  },
  {
   "cell_type": "code",
   "execution_count": 36,
   "metadata": {},
   "outputs": [
    {
     "data": {
      "text/plain": [
       "Date         0\n",
       "Open         0\n",
       "High         0\n",
       "Low          0\n",
       "Close        0\n",
       "Adj Close    0\n",
       "Volume       0\n",
       "dtype: int64"
      ]
     },
     "execution_count": 36,
     "metadata": {},
     "output_type": "execute_result"
    }
   ],
   "source": [
    "dataset.isnull().sum()"
   ]
  },
  {
   "cell_type": "code",
   "execution_count": null,
   "metadata": {},
   "outputs": [],
   "source": []
  },
  {
   "cell_type": "code",
   "execution_count": 37,
   "metadata": {},
   "outputs": [],
   "source": [
    "test_set = dataset_test.iloc[:,1:2].values"
   ]
  },
  {
   "cell_type": "code",
   "execution_count": 39,
   "metadata": {},
   "outputs": [
    {
     "data": {
      "text/plain": [
       "array([[3090.  ],\n",
       "       [3230.  ],\n",
       "       [3176.45],\n",
       "       [3175.  ],\n",
       "       [3155.  ],\n",
       "       [3235.  ],\n",
       "       [3250.  ],\n",
       "       [3233.  ],\n",
       "       [3270.  ],\n",
       "       [3305.  ],\n",
       "       [3241.9 ],\n",
       "       [3308.95],\n",
       "       [3300.  ],\n",
       "       [3230.  ],\n",
       "       [3210.05],\n",
       "       [3100.  ],\n",
       "       [3174.  ],\n",
       "       [3213.  ],\n",
       "       [3216.05],\n",
       "       [3198.95]])"
      ]
     },
     "execution_count": 39,
     "metadata": {},
     "output_type": "execute_result"
    }
   ],
   "source": [
    "np.set_printoptions(precision = 2)\n",
    "test_set"
   ]
  },
  {
   "cell_type": "code",
   "execution_count": 40,
   "metadata": {},
   "outputs": [],
   "source": [
    "test_set_scaled = sc.transform(test_set)"
   ]
  },
  {
   "cell_type": "code",
   "execution_count": 41,
   "metadata": {},
   "outputs": [
    {
     "data": {
      "text/plain": [
       "array([[1.  ],\n",
       "       [1.05],\n",
       "       [1.03],\n",
       "       [1.03],\n",
       "       [1.02],\n",
       "       [1.05],\n",
       "       [1.05],\n",
       "       [1.05],\n",
       "       [1.06],\n",
       "       [1.07],\n",
       "       [1.05],\n",
       "       [1.08],\n",
       "       [1.07],\n",
       "       [1.05],\n",
       "       [1.04],\n",
       "       [1.  ],\n",
       "       [1.03],\n",
       "       [1.04],\n",
       "       [1.04],\n",
       "       [1.04]])"
      ]
     },
     "execution_count": 41,
     "metadata": {},
     "output_type": "execute_result"
    }
   ],
   "source": [
    "test_set_scaled"
   ]
  },
  {
   "cell_type": "code",
   "execution_count": 65,
   "metadata": {},
   "outputs": [],
   "source": [
    "dataset_total = pd.concat((dataset['Open'], dataset_test['Open']), 0)"
   ]
  },
  {
   "cell_type": "code",
   "execution_count": 66,
   "metadata": {},
   "outputs": [
    {
     "data": {
      "text/plain": [
       "2691    2729.000000\n",
       "2692    2686.000000\n",
       "2693    2705.000000\n",
       "2694    2679.000000\n",
       "2695    2719.000000\n",
       "2696    2773.899902\n",
       "2697    2710.800049\n",
       "2698    2715.000000\n",
       "2699    2740.000000\n",
       "2700    2815.000000\n",
       "2701    2818.000000\n",
       "2702    2792.699951\n",
       "2703    2802.000000\n",
       "2704    2786.000000\n",
       "2705    2779.000000\n",
       "2706    2811.000000\n",
       "2707    2868.000000\n",
       "2708    2861.000000\n",
       "2709    2834.000000\n",
       "2710    2876.050049\n",
       "2711    2909.000000\n",
       "2712    2910.000000\n",
       "2713    2920.000000\n",
       "2714    2934.399902\n",
       "2715    2900.000000\n",
       "2716    2880.000000\n",
       "2717    2950.000000\n",
       "2718    3039.600098\n",
       "2719    3100.000000\n",
       "2720    3075.000000\n",
       "0       3090.000000\n",
       "1       3230.000000\n",
       "2       3176.449951\n",
       "3       3175.000000\n",
       "4       3155.000000\n",
       "5       3235.000000\n",
       "6       3250.000000\n",
       "7       3233.000000\n",
       "8       3270.000000\n",
       "9       3305.000000\n",
       "10      3241.899902\n",
       "11      3308.949951\n",
       "12      3300.000000\n",
       "13      3230.000000\n",
       "14      3210.050049\n",
       "15      3100.000000\n",
       "16      3174.000000\n",
       "17      3213.000000\n",
       "18      3216.050049\n",
       "19      3198.949951\n",
       "Name: Open, dtype: float64"
      ]
     },
     "execution_count": 66,
     "metadata": {},
     "output_type": "execute_result"
    }
   ],
   "source": [
    "dataset_total.tail(50)"
   ]
  },
  {
   "cell_type": "code",
   "execution_count": 110,
   "metadata": {},
   "outputs": [],
   "source": [
    "inputs = dataset_total[len(dataset_total)- len(dataset_test)- 60 :].values\n",
    "\n"
   ]
  },
  {
   "cell_type": "code",
   "execution_count": 99,
   "metadata": {},
   "outputs": [
    {
     "data": {
      "text/plain": [
       "array([2845.  , 2842.  , 2811.  , 2750.1 , 2774.  , 2725.  , 2739.  ,\n",
       "       2661.  , 2687.8 , 2689.95, 2699.75, 2650.  , 2608.  , 2636.1 ,\n",
       "       2660.  , 2604.  , 2610.  , 2685.  , 2699.  , 2731.1 , 2697.2 ,\n",
       "       2667.95, 2686.  , 2655.75, 2695.  , 2661.  , 2637.  , 2655.  ,\n",
       "       2690.  , 2734.4 , 2729.  , 2686.  , 2705.  , 2679.  , 2719.  ,\n",
       "       2773.9 , 2710.8 , 2715.  , 2740.  , 2815.  , 2818.  , 2792.7 ,\n",
       "       2802.  , 2786.  , 2779.  , 2811.  , 2868.  , 2861.  , 2834.  ,\n",
       "       2876.05, 2909.  , 2910.  , 2920.  , 2934.4 , 2900.  , 2880.  ,\n",
       "       2950.  , 3039.6 , 3100.  , 3075.  , 3090.  , 3230.  , 3176.45,\n",
       "       3175.  , 3155.  , 3235.  , 3250.  , 3233.  , 3270.  , 3305.  ,\n",
       "       3241.9 , 3308.95, 3300.  , 3230.  , 3210.05, 3100.  , 3174.  ,\n",
       "       3213.  , 3216.05, 3198.95])"
      ]
     },
     "execution_count": 99,
     "metadata": {},
     "output_type": "execute_result"
    }
   ],
   "source": [
    "inputs "
   ]
  },
  {
   "cell_type": "code",
   "execution_count": 100,
   "metadata": {},
   "outputs": [],
   "source": [
    "\n",
    "inputs = inputs.reshape(-1,1)"
   ]
  },
  {
   "cell_type": "code",
   "execution_count": 101,
   "metadata": {},
   "outputs": [
    {
     "data": {
      "text/plain": [
       "array([[2845.  ],\n",
       "       [2842.  ],\n",
       "       [2811.  ],\n",
       "       [2750.1 ],\n",
       "       [2774.  ],\n",
       "       [2725.  ],\n",
       "       [2739.  ],\n",
       "       [2661.  ],\n",
       "       [2687.8 ],\n",
       "       [2689.95],\n",
       "       [2699.75],\n",
       "       [2650.  ],\n",
       "       [2608.  ],\n",
       "       [2636.1 ],\n",
       "       [2660.  ],\n",
       "       [2604.  ],\n",
       "       [2610.  ],\n",
       "       [2685.  ],\n",
       "       [2699.  ],\n",
       "       [2731.1 ],\n",
       "       [2697.2 ],\n",
       "       [2667.95],\n",
       "       [2686.  ],\n",
       "       [2655.75],\n",
       "       [2695.  ],\n",
       "       [2661.  ],\n",
       "       [2637.  ],\n",
       "       [2655.  ],\n",
       "       [2690.  ],\n",
       "       [2734.4 ],\n",
       "       [2729.  ],\n",
       "       [2686.  ],\n",
       "       [2705.  ],\n",
       "       [2679.  ],\n",
       "       [2719.  ],\n",
       "       [2773.9 ],\n",
       "       [2710.8 ],\n",
       "       [2715.  ],\n",
       "       [2740.  ],\n",
       "       [2815.  ],\n",
       "       [2818.  ],\n",
       "       [2792.7 ],\n",
       "       [2802.  ],\n",
       "       [2786.  ],\n",
       "       [2779.  ],\n",
       "       [2811.  ],\n",
       "       [2868.  ],\n",
       "       [2861.  ],\n",
       "       [2834.  ],\n",
       "       [2876.05],\n",
       "       [2909.  ],\n",
       "       [2910.  ],\n",
       "       [2920.  ],\n",
       "       [2934.4 ],\n",
       "       [2900.  ],\n",
       "       [2880.  ],\n",
       "       [2950.  ],\n",
       "       [3039.6 ],\n",
       "       [3100.  ],\n",
       "       [3075.  ],\n",
       "       [3090.  ],\n",
       "       [3230.  ],\n",
       "       [3176.45],\n",
       "       [3175.  ],\n",
       "       [3155.  ],\n",
       "       [3235.  ],\n",
       "       [3250.  ],\n",
       "       [3233.  ],\n",
       "       [3270.  ],\n",
       "       [3305.  ],\n",
       "       [3241.9 ],\n",
       "       [3308.95],\n",
       "       [3300.  ],\n",
       "       [3230.  ],\n",
       "       [3210.05],\n",
       "       [3100.  ],\n",
       "       [3174.  ],\n",
       "       [3213.  ],\n",
       "       [3216.05],\n",
       "       [3198.95]])"
      ]
     },
     "execution_count": 101,
     "metadata": {},
     "output_type": "execute_result"
    }
   ],
   "source": [
    "inputs"
   ]
  },
  {
   "cell_type": "code",
   "execution_count": 102,
   "metadata": {},
   "outputs": [],
   "source": [
    "inputs = sc.transform(inputs)"
   ]
  },
  {
   "cell_type": "code",
   "execution_count": 103,
   "metadata": {},
   "outputs": [
    {
     "data": {
      "text/plain": [
       "(80, 1)"
      ]
     },
     "execution_count": 103,
     "metadata": {},
     "output_type": "execute_result"
    }
   ],
   "source": [
    "inputs.shape"
   ]
  },
  {
   "cell_type": "code",
   "execution_count": 104,
   "metadata": {},
   "outputs": [],
   "source": [
    "X_test =[]\n",
    "for i in range(60,81):\n",
    "    X_test.append(inputs[i-60:i,0])\n",
    "X_test = np.array(X_test)"
   ]
  },
  {
   "cell_type": "code",
   "execution_count": 113,
   "metadata": {},
   "outputs": [
    {
     "data": {
      "text/plain": [
       "array([[0.91, 0.91, 0.89, ..., 0.98, 1.  , 0.99],\n",
       "       [0.91, 0.89, 0.87, ..., 1.  , 0.99, 1.  ],\n",
       "       [0.89, 0.87, 0.88, ..., 0.99, 1.  , 1.05],\n",
       "       ...,\n",
       "       [0.85, 0.87, 0.85, ..., 1.  , 1.03, 1.04],\n",
       "       [0.87, 0.85, 0.84, ..., 1.03, 1.04, 1.04],\n",
       "       [0.85, 0.84, 0.85, ..., 1.04, 1.04, 1.04]])"
      ]
     },
     "execution_count": 113,
     "metadata": {},
     "output_type": "execute_result"
    }
   ],
   "source": [
    "X_test"
   ]
  },
  {
   "cell_type": "code",
   "execution_count": 105,
   "metadata": {},
   "outputs": [
    {
     "data": {
      "text/plain": [
       "21"
      ]
     },
     "execution_count": 105,
     "metadata": {},
     "output_type": "execute_result"
    }
   ],
   "source": [
    "X_test.shape[0]"
   ]
  },
  {
   "cell_type": "code",
   "execution_count": 106,
   "metadata": {},
   "outputs": [
    {
     "data": {
      "text/plain": [
       "60"
      ]
     },
     "execution_count": 106,
     "metadata": {},
     "output_type": "execute_result"
    }
   ],
   "source": [
    "X_test.shape[1]"
   ]
  },
  {
   "cell_type": "code",
   "execution_count": 114,
   "metadata": {},
   "outputs": [],
   "source": [
    "X_test = np.reshape(X_test, (X_test.shape[0], X_test.shape[1] , 1))"
   ]
  },
  {
   "cell_type": "code",
   "execution_count": 115,
   "metadata": {},
   "outputs": [],
   "source": [
    "Y_pred = regressor.predict(X_test)"
   ]
  },
  {
   "cell_type": "code",
   "execution_count": 116,
   "metadata": {},
   "outputs": [
    {
     "data": {
      "text/plain": [
       "array([[0.95],\n",
       "       [0.95],\n",
       "       [0.98],\n",
       "       [0.98],\n",
       "       [0.98],\n",
       "       [0.98],\n",
       "       [0.99],\n",
       "       [1.  ],\n",
       "       [1.  ],\n",
       "       [1.01],\n",
       "       [1.02],\n",
       "       [1.01],\n",
       "       [1.02],\n",
       "       [1.02],\n",
       "       [1.01],\n",
       "       [1.01],\n",
       "       [0.99],\n",
       "       [0.99],\n",
       "       [1.  ],\n",
       "       [1.  ],\n",
       "       [1.  ]], dtype=float32)"
      ]
     },
     "execution_count": 116,
     "metadata": {},
     "output_type": "execute_result"
    }
   ],
   "source": [
    "Y_pred"
   ]
  },
  {
   "cell_type": "code",
   "execution_count": 117,
   "metadata": {},
   "outputs": [],
   "source": [
    "Y_pred = sc.inverse_transform(Y_pred)"
   ]
  },
  {
   "cell_type": "code",
   "execution_count": 118,
   "metadata": {},
   "outputs": [
    {
     "data": {
      "text/plain": [
       "array([[2953.84],\n",
       "       [2973.38],\n",
       "       [3048.5 ],\n",
       "       [3045.84],\n",
       "       [3046.04],\n",
       "       [3049.5 ],\n",
       "       [3084.26],\n",
       "       [3100.07],\n",
       "       [3096.83],\n",
       "       [3117.98],\n",
       "       [3143.09],\n",
       "       [3125.78],\n",
       "       [3149.31],\n",
       "       [3160.96],\n",
       "       [3132.17],\n",
       "       [3119.63],\n",
       "       [3070.04],\n",
       "       [3081.07],\n",
       "       [3099.36],\n",
       "       [3098.94],\n",
       "       [3095.15]], dtype=float32)"
      ]
     },
     "execution_count": 118,
     "metadata": {},
     "output_type": "execute_result"
    }
   ],
   "source": [
    "Y_pred\n"
   ]
  },
  {
   "cell_type": "code",
   "execution_count": null,
   "metadata": {},
   "outputs": [],
   "source": []
  },
  {
   "cell_type": "code",
   "execution_count": null,
   "metadata": {},
   "outputs": [],
   "source": []
  },
  {
   "cell_type": "markdown",
   "metadata": {},
   "source": [
    "## visualization"
   ]
  },
  {
   "cell_type": "code",
   "execution_count": 124,
   "metadata": {},
   "outputs": [
    {
     "data": {
      "image/png": "[encoded data removed]",
      "text/plain": [
       "<Figure size 1080x504 with 1 Axes>"
      ]
     },
     "metadata": {
      "needs_background": "light"
     },
     "output_type": "display_data"
    }
   ],
   "source": [
    "plt.figure(figsize = (15,7))\n",
    "\n",
    "plt.plot(test_set , color = 'red' , label = 'Real_stock_prices')\n",
    "plt.plot(Y_pred ,color = 'blue' , label = 'Predicted_stock_prices')\n",
    "plt.legend()\n",
    "plt.xlabel('Time')\n",
    "plt.ylabel('Google_Stiock_Price')\n",
    "plt.show()"
   ]
  },
  {
   "cell_type": "code",
   "execution_count": null,
   "metadata": {},
   "outputs": [],
   "source": []
  }
 ],
 "metadata": {
  "kernelspec": {
   "display_name": "Python 3",
   "language": "python",
   "name": "python3"
  },
  "language_info": {
   "codemirror_mode": {
    "name": "ipython",
    "version": 3
   },
   "file_extension": ".py",
   "mimetype": "text/x-python",
   "name": "python",
   "nbconvert_exporter": "python",
   "pygments_lexer": "ipython3",
   "version": "3.8.3"
  }
 },
 "nbformat": 4,
 "nbformat_minor": 4
}
